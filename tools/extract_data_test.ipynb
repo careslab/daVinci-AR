{
 "cells": [
  {
   "cell_type": "code",
   "execution_count": 7,
   "id": "11bbf9ee",
   "metadata": {
    "ExecuteTime": {
     "end_time": "2023-10-22T22:19:11.157334900Z",
     "start_time": "2023-10-22T22:19:11.142333600Z"
    }
   },
   "outputs": [],
   "source": [
    "import pandas as pd"
   ]
  },
  {
   "cell_type": "code",
   "execution_count": 8,
   "id": "bb74ed15",
   "metadata": {
    "ExecuteTime": {
     "end_time": "2023-10-22T22:19:11.193339600Z",
     "start_time": "2023-10-22T22:19:11.160335Z"
    }
   },
   "outputs": [
    {
     "name": "stdout",
     "output_type": "stream",
     "text": [
      "1798\n",
      "1798\n",
      "1798\n"
     ]
    }
   ],
   "source": [
    "# PSM1 = green = right\n",
    "# PSM2 = red = left\n",
    "num = 28\n",
    "dataset = pd.read_csv(f'ds{num}/dataset{num}.csv', header=None)\n",
    "dataset.columns = ['PSM1x', 'PSM1y', 'PSM1z', 'PSM2x', 'PSM2y', 'PSM2z', 'ECMx', 'ECMy', 'ECMz', 'img_l', 'img_r']\n",
    "# print(dataset.head())\n",
    "dataset.reset_index(drop=True, inplace=True)\n",
    "# dataset : psm1 psm2 ecm img_l img_r\n",
    "# left right ends as gx gy rx ry\n",
    "left = pd.read_csv(f'ds{num}/tool_img_pos_left.csv', header=None)\n",
    "left.columns = ['frame_index', 'name', 'gx', 'gy', 'rx', 'ry']\n",
    "right = pd.read_csv(f'ds{num}/tool_img_pos_right.csv', header=None)\n",
    "print(len(dataset))\n",
    "print(len(left))\n",
    "print(len(right))\n",
    "right.columns = ['frame_index', 'name', 'gx', 'gy', 'rx', 'ry']\n",
    "psm2_x_out = pd.DataFrame({'PSMx': [], 'PSMy': [], 'PSMz': [], 'ECMx': [], 'ECMy': [], 'ECMz': []})\n",
    "psm2_y_out = pd.DataFrame({'l_rx': [], 'l_ry': [], 'r_rx': [], 'r_ry': []})\n",
    "psm1_x_out = pd.DataFrame({'PSMx': [], 'PSMy': [], 'PSMz': [], 'ECMx': [], 'ECMy': [], 'ECMz': []})\n",
    "psm1_y_out = pd.DataFrame({'l_gx': [], 'l_gy': [], 'r_gx': [], 'r_gy': []})"
   ]
  },
  {
   "cell_type": "code",
   "execution_count": 9,
   "id": "567bc901",
   "metadata": {
    "ExecuteTime": {
     "end_time": "2023-10-22T22:19:11.223828Z",
     "start_time": "2023-10-22T22:19:11.184365800Z"
    }
   },
   "outputs": [],
   "source": [
    "left = left.sort_values(by=['frame_index'], kind='mergesort')\n",
    "right = right.sort_values(by=['frame_index'], kind='mergesort')\n",
    "# left.drop\n",
    "psm1_rc_leftCam = left[['gx', 'gy']]\n",
    "psm1_rc_rightCam = right[['gx', 'gy']]\n",
    "psm2_rc_leftCam = left[['rx', 'ry']]\n",
    "psm2_rc_rightCam = right[['rx', 'ry']]\n",
    "psm2_x_out[['PSMx', 'PSMy', 'PSMz', 'ECMx', 'ECMy', 'ECMz']] = dataset[\n",
    "    ['PSM2x', 'PSM2y', 'PSM2z', 'ECMx', 'ECMy', 'ECMz']]\n",
    "psm1_x_out[['PSMx', 'PSMy', 'PSMz', 'ECMx', 'ECMy', 'ECMz']] = dataset[\n",
    "    ['PSM1x', 'PSM1y', 'PSM1z', 'ECMx', 'ECMy', 'ECMz']]\n",
    "left.reset_index(drop=True, inplace=True)\n",
    "right.reset_index(drop=True, inplace=True)\n",
    "psm2_y_out.reset_index(drop=True, inplace=True)\n",
    "psm1_y_out.reset_index(drop=True, inplace=True)\n",
    "# print(left.head())\n",
    "# print(right.head())\n"
   ]
  },
  {
   "cell_type": "code",
   "execution_count": 10,
   "outputs": [],
   "source": [
    "psm2_y_out['l_rx'] = left['rx']\n",
    "psm2_y_out['l_ry'] = left['ry']\n",
    "psm2_y_out['r_rx'] = right['rx']\n",
    "psm2_y_out['r_ry'] = right['ry']\n",
    "\n",
    "psm1_y_out['l_gx'] = left['gx']\n",
    "psm1_y_out['l_gy'] = left['gy']\n",
    "psm1_y_out['r_gx'] = right['gx']\n",
    "psm1_y_out['r_gy'] = right['gy']\n",
    "psm1_y_out = psm1_y_out.replace(-1, float('nan'))\n",
    "psm2_y_out = psm2_y_out.replace(-1, float('nan'))\n",
    "# psm1_y_out = psm1_y_out.replace(-1, 0)\n",
    "# psm2_y_out = psm2_y_out.replace(-1, 0)\n",
    "# print(psm1_y_out)\n",
    "# print(psm2_y_out)\n",
    "# psm2_y_out = psm2_y_out.interpolate()\n",
    "# psm1_y_out = psm1_y_out.interpolate()\n"
   ],
   "metadata": {
    "collapsed": false,
    "ExecuteTime": {
     "end_time": "2023-10-22T22:19:11.253764700Z",
     "start_time": "2023-10-22T22:19:11.214354200Z"
    }
   },
   "id": "bebd9698c1238f75"
  },
  {
   "cell_type": "code",
   "execution_count": 11,
   "outputs": [
    {
     "name": "stdout",
     "output_type": "stream",
     "text": [
      "(1795, 10)\n",
      "       PSMx      PSMy      PSMz      ECMx      ECMy      ECMz   l_rx   l_ry  \\\n",
      "0 -0.006782  0.013389 -0.156196  0.000146  0.000178 -0.001192  276.0  245.0   \n",
      "1 -0.005701  0.013873 -0.156744  0.000148  0.000183 -0.001191  281.0  249.0   \n",
      "2 -0.005760  0.013802 -0.156726  0.000150  0.000192 -0.001190  289.0  249.0   \n",
      "3 -0.005716  0.013866 -0.156731  0.000152  0.000198 -0.001189  295.0  253.0   \n",
      "4 -0.005325  0.014070 -0.156807  0.000154  0.000198 -0.001192  302.0  260.0   \n",
      "\n",
      "   r_rx  r_ry  \n",
      "0   326   259  \n",
      "1   333   263  \n",
      "2   339   264  \n",
      "3   346   268  \n",
      "4   353   276  \n"
     ]
    }
   ],
   "source": [
    "psm1_joined = psm1_x_out.join(psm1_y_out, how='inner')\n",
    "psm2_joined = psm2_x_out.join(psm2_y_out, how='inner')\n",
    "psm1_joined = psm1_joined.dropna()\n",
    "psm2_joined = psm2_joined.dropna()\n",
    "# print(psm1_joined.head())\n",
    "print(psm2_joined.shape)\n",
    "print(psm2_joined.head())\n",
    "psm1_x_out = psm1_joined.iloc[:, 0:6]\n",
    "psm1_y_out = psm1_joined.iloc[:, 6:]\n",
    "psm2_x_out = psm2_joined.iloc[:, 0:6]\n",
    "psm2_y_out = psm2_joined.iloc[:, 6:]\n",
    "# psm1_y_out\n",
    "# psm2_x_out\n",
    "# psm2_y_out\n",
    "# print(psm1_x_out)\n",
    "# print(psm2_x_out)\n",
    "# print(psm1_y_out)\n",
    "# print(psm2_y_out)"
   ],
   "metadata": {
    "collapsed": false,
    "ExecuteTime": {
     "end_time": "2023-10-22T22:19:11.265766600Z",
     "start_time": "2023-10-22T22:19:11.228800500Z"
    }
   },
   "id": "5025b26d4944d218"
  },
  {
   "cell_type": "code",
   "execution_count": 12,
   "id": "025a414d",
   "metadata": {
    "ExecuteTime": {
     "end_time": "2023-10-22T22:19:11.311780600Z",
     "start_time": "2023-10-22T22:19:11.243769200Z"
    }
   },
   "outputs": [],
   "source": [
    "psm1_x_out.to_csv(f'./ds{num}/{num}_psm1_x.csv')\n",
    "psm1_y_out.to_csv(f'./ds{num}/{num}_psm1_y.csv')\n",
    "psm2_x_out.to_csv(f'./ds{num}/{num}_psm2_x.csv')\n",
    "psm2_y_out.to_csv(f'./ds{num}/{num}_psm2_y.csv')"
   ]
  },
  {
   "cell_type": "code",
   "execution_count": 12,
   "outputs": [],
   "source": [],
   "metadata": {
    "collapsed": false,
    "ExecuteTime": {
     "end_time": "2023-10-22T22:19:11.320412Z",
     "start_time": "2023-10-22T22:19:11.304781500Z"
    }
   },
   "id": "f1fb8aecf75ce051"
  }
 ],
 "metadata": {
  "kernelspec": {
   "display_name": "Python 3",
   "language": "python",
   "name": "python3"
  },
  "language_info": {
   "codemirror_mode": {
    "name": "ipython",
    "version": 3
   },
   "file_extension": ".py",
   "mimetype": "text/x-python",
   "name": "python",
   "nbconvert_exporter": "python",
   "pygments_lexer": "ipython3",
   "version": "3.6.9"
  }
 },
 "nbformat": 4,
 "nbformat_minor": 5
}
