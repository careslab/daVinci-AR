{
 "cells": [
  {
   "cell_type": "code",
   "execution_count": 108,
   "outputs": [],
   "source": [
    "import os\n",
    "import cv2 as cv\n",
    "import pandas as pd\n",
    "\n",
    "# PSM1 = green = right\n",
    "# PSM2 = red = left\n",
    "\n",
    "num = 28\n",
    "x_data = pd.read_csv(f\"./ds{num}/{num}_psm2_x.csv\", header=None, skiprows=1)\n",
    "psm2_y_data = pd.read_csv(f\"./ds{num}/{num}_psm2_y.csv\", header=None, skiprows=1)\n",
    "psm1_y_data = pd.read_csv(f\"./ds{num}/{num}_psm1_y.csv\", header=None, skiprows=1)\n",
    "# print(psm2_y_data)\n",
    "# print(psm1_y_data)\n",
    "X = x_data.iloc[:, 1:].values\n",
    "psm2_y = psm2_y_data.iloc[:len(X), 1:].values\n",
    "psm1_y = psm1_y_data.iloc[:len(X), 1:].values\n",
    "# print(y_data.iloc[:len(X), 1:])\n",
    "\n",
    "\n",
    "green = (0, 255, 0)\n",
    "red = (0, 255, 255)"
   ],
   "metadata": {
    "collapsed": false,
    "ExecuteTime": {
     "end_time": "2023-10-22T04:26:28.663068Z",
     "start_time": "2023-10-22T04:26:28.640883600Z"
    }
   },
   "id": "initial_id"
  },
  {
   "cell_type": "code",
   "execution_count": 80,
   "outputs": [],
   "source": [
    "# count = 0\n",
    "# for root, dir, imgs_n in os.walk(f\"./ds{num}/{cam}\"):\n",
    "#     for img_n in sorted(imgs_n):\n",
    "#         print(img_n, ' ', count)\n",
    "#         img = cv.imread(f'./ds{num}/{cam}/{img_n}')\n",
    "#         plt.imshow(img)\n",
    "#         # cv.imshow('Test', img)\n",
    "#         img = cv.circle(img, (int(y[count, 0]), int(y[count, 1])), radius=1, color=green)\n",
    "#         cv.imshow('Images', img)\n",
    "#         count = count + 1"
   ],
   "metadata": {
    "collapsed": false,
    "ExecuteTime": {
     "end_time": "2023-10-22T03:13:37.983426600Z",
     "start_time": "2023-10-22T03:13:37.968427900Z"
    }
   },
   "id": "6bd9424a76daab05"
  },
  {
   "cell_type": "code",
   "execution_count": 81,
   "outputs": [],
   "source": [
    "# import cv2 as cv\n",
    "# import glob\n",
    "# import re\n",
    "# \n",
    "# img_array = []\n",
    "# numbers = re.compile(r'(\\d+)')\n",
    "# \n",
    "# size = (0, 0)\n",
    "# \n",
    "# \n",
    "# def numericalSort(value):\n",
    "#     parts = numbers.split(value)\n",
    "#     parts[1::2] = map(int, parts[1::2])\n",
    "#     return parts\n",
    "# \n",
    "# \n",
    "# for filename in sorted(glob.glob('f./ds28/Left/*.png'), key=numericalSort):\n",
    "#     print(filename)\n",
    "#     img = cv.imread(f'./ds28/Left/{filename}')\n",
    "#     height, width, layers = img.shape\n",
    "#     print(img.shape)\n",
    "#     size = (width, height)\n",
    "#     img_array.append(img)\n",
    "# \n",
    "# out = cv.VideoWriter('project.avi', cv.VideoWriter.fourcc(*'DIVX'), 15, size)\n",
    "# \n",
    "# for i in range(len(img_array)):\n",
    "#     out.write(img_array[i])\n",
    "# out.release()"
   ],
   "metadata": {
    "collapsed": false,
    "ExecuteTime": {
     "end_time": "2023-10-22T03:13:38.246975300Z",
     "start_time": "2023-10-22T03:13:38.240975700Z"
    }
   },
   "id": "5ec0fbffd3d6668c"
  },
  {
   "cell_type": "code",
   "execution_count": 111,
   "outputs": [],
   "source": [
    "import re\n",
    "def getKey(name):\n",
    "    x = re.findall('(\\d)',name)\n",
    "    return int(''.join(x))\n",
    "               \n",
    "def get_img_arr(cam_in=\"Left\"):\n",
    "    img_n_s = []\n",
    "    img_array = []\n",
    "    count = 0\n",
    "    offset = 2\n",
    "    if cam_in == \"Left\":\n",
    "        offset = 0\n",
    "    for root, dir, imgs_n in os.walk(f\"./ds{num}/{cam}\"):\n",
    "        img_n_s = sorted(imgs_n, key=getKey)\n",
    "    # print(img_n_s)\n",
    "    # print(cam)\n",
    "    for img_n in img_n_s:\n",
    "        img = cv.imread(f'./ds28/{cam}/{img_n}')\n",
    "        img = cv.circle(img, (int(psm2_y[count, offset]), int(psm2_y[count, offset + 1])), radius=2, thickness=1,\n",
    "                        color=red)\n",
    "        img = cv.circle(img, (int(psm1_y[count, offset]), int(psm1_y[count, offset + 1])), radius=2, thickness=1,\n",
    "                        color=green)\n",
    "        img_array.append(img)\n",
    "        count = count + 1\n",
    "    return img_array"
   ],
   "metadata": {
    "collapsed": false,
    "ExecuteTime": {
     "end_time": "2023-10-22T04:26:37.921514700Z",
     "start_time": "2023-10-22T04:26:37.915515300Z"
    }
   },
   "id": "ccb7d615270d3f2a"
  },
  {
   "cell_type": "code",
   "execution_count": 113,
   "outputs": [],
   "source": [
    "size = (640, 480)\n",
    "cam = \"Right\"\n",
    "\n",
    "out = cv.VideoWriter(f'ground_truth_{cam}.avi', cv.VideoWriter.fourcc(*'DIVX'), 15, size)\n",
    "img_array = get_img_arr(cam_in=cam)\n",
    "for i in range(len(img_array)):\n",
    "    out.write(img_array[i])\n",
    "out.release()"
   ],
   "metadata": {
    "collapsed": false,
    "ExecuteTime": {
     "end_time": "2023-10-22T04:27:40.023613500Z",
     "start_time": "2023-10-22T04:27:22.580302Z"
    }
   },
   "id": "b6d15801138121fa"
  },
  {
   "cell_type": "code",
   "execution_count": 78,
   "outputs": [],
   "source": [],
   "metadata": {
    "collapsed": false,
    "ExecuteTime": {
     "end_time": "2023-10-22T03:11:21.602726100Z",
     "start_time": "2023-10-22T03:11:21.589724500Z"
    }
   },
   "id": "4eebc8ae15bfcc14"
  }
 ],
 "metadata": {
  "kernelspec": {
   "display_name": "Python 3",
   "language": "python",
   "name": "python3"
  },
  "language_info": {
   "codemirror_mode": {
    "name": "ipython",
    "version": 2
   },
   "file_extension": ".py",
   "mimetype": "text/x-python",
   "name": "python",
   "nbconvert_exporter": "python",
   "pygments_lexer": "ipython2",
   "version": "2.7.6"
  }
 },
 "nbformat": 4,
 "nbformat_minor": 5
}
